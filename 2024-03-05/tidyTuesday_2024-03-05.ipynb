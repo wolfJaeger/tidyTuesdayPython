{
 "cells": [
  {
   "cell_type": "markdown",
   "id": "29341f6f-8164-4040-80d8-8d556cebee8d",
   "metadata": {},
   "source": [
    "# TidyTuesday 2024-03-05 - Python\n",
    "\n",
    "This is my first attempt to conquer a tidyTuesday using python.\n",
    "\n",
    "Sources:\n",
    "- https://github.com/rfordatascience/tidytuesday/blob/master/data/2024/2024-03-05/readme.md\n",
    "- https://www.mrtrashwheel.com\n",
    "- https://docs.google.com/spreadsheets/d/1b8Lbe-z3PNb3H8nSsSjrwK2B0ReAblL2/edit#gid=1143432795\n",
    "- https://en.wikipedia.org/wiki/Mr._Trash_Wheel\n"
   ]
  },
  {
   "cell_type": "markdown",
   "id": "abdd6a15-3ce1-423f-8e27-e62a3136d199",
   "metadata": {},
   "source": [
    "![Mr Trashwheel, image from wikipedia](https://upload.wikimedia.org/wikipedia/commons/thumb/2/20/Mr._Trash_Wheel_%2827582099121%29.jpg/1280px-Mr._Trash_Wheel_%2827582099121%29.jpg)"
   ]
  },
  {
   "cell_type": "code",
   "execution_count": 164,
   "id": "5b51e3ad-3422-4daa-8920-51015d182ffa",
   "metadata": {},
   "outputs": [],
   "source": [
    "import re\n",
    "import numpy as np\n",
    "import matplotlib.pyplot as plt\n",
    "import pandas as pd\n",
    "import seaborn as sns\n",
    "\n",
    "# to beautify our plots\n",
    "plt.style.use('ggplot')"
   ]
  },
  {
   "cell_type": "markdown",
   "id": "3b6012de-c852-48b8-b4f8-c6c931a10296",
   "metadata": {},
   "source": [
    "## First step - doing the preparations like in the description (readme.md on tidytuesday)"
   ]
  },
  {
   "cell_type": "code",
   "execution_count": 138,
   "id": "841e437d-177d-4bbf-ae4d-8e95379398c8",
   "metadata": {},
   "outputs": [],
   "source": [
    "# Read the csvs (parse_date has sadly no effect, so we make this after loading the data)\n",
    "# Each csv contains the data of one 'semi-autonomous trash interceptor'\n",
    "\n",
    "# I need some attempts to find the best settings for reading the data correctly\n",
    "\n",
    "column_dtypes = { \n",
    "    'Dumpster': np.float32,\n",
    "    'Year': np.float32,\n",
    "    'Weight (tons)': np.float32,\n",
    "    'Volume (cubic yards)': np.float32,\n",
    "    'Plastic Bottles' :np.float32,\n",
    "    'Polystyrene': np.float32,\n",
    "    'Cigarette Butts': np.float32,\n",
    "    'Glass Bottles': np.float32,\n",
    "    'Plastic Bags': np.float32,\n",
    "    'Wrappers': np.float32,\n",
    "    'Sports Balls': np.float32,\n",
    "    'Homes Powered*': np.float32\n",
    "}\n",
    "\n",
    "mrtrash = pd.read_csv('./data/mrtrashwheel.csv', skiprows=1, dtype=column_dtypes, thousands=',', decimal='.')\n",
    "professortrash = pd.read_csv('./data/professortrashwheel.csv', skiprows=1, dtype=column_dtypes, thousands=',', decimal='.')\n",
    "captaintrash = pd.read_csv('./data/captaintrashwheel.csv', skiprows=1, dtype=column_dtypes, thousands=',', decimal='.')\n",
    "gwynndatrash = pd.read_csv('./data/gwynndatrashwheel.csv', skiprows=1, dtype=column_dtypes, thousands=',', decimal='.')"
   ]
  },
  {
   "cell_type": "code",
   "execution_count": 139,
   "id": "df94a45d-cdce-40d8-89ee-e8ff8010af4d",
   "metadata": {},
   "outputs": [
    {
     "data": {
      "text/html": [
       "<div>\n",
       "<style scoped>\n",
       "    .dataframe tbody tr th:only-of-type {\n",
       "        vertical-align: middle;\n",
       "    }\n",
       "\n",
       "    .dataframe tbody tr th {\n",
       "        vertical-align: top;\n",
       "    }\n",
       "\n",
       "    .dataframe thead th {\n",
       "        text-align: right;\n",
       "    }\n",
       "</style>\n",
       "<table border=\"1\" class=\"dataframe\">\n",
       "  <thead>\n",
       "    <tr style=\"text-align: right;\">\n",
       "      <th></th>\n",
       "      <th>Dumpster</th>\n",
       "      <th>Month</th>\n",
       "      <th>Year</th>\n",
       "      <th>Date</th>\n",
       "      <th>Weight (tons)</th>\n",
       "      <th>Volume (cubic yards)</th>\n",
       "      <th>Plastic Bottles</th>\n",
       "      <th>Polystyrene</th>\n",
       "      <th>Cigarette Butts</th>\n",
       "      <th>Glass Bottles</th>\n",
       "      <th>Plastic Bags</th>\n",
       "      <th>Wrappers</th>\n",
       "      <th>Sports Balls</th>\n",
       "      <th>Homes Powered*</th>\n",
       "      <th>Unnamed: 14</th>\n",
       "      <th>Unnamed: 15</th>\n",
       "    </tr>\n",
       "  </thead>\n",
       "  <tbody>\n",
       "    <tr>\n",
       "      <th>0</th>\n",
       "      <td>1.0</td>\n",
       "      <td>May</td>\n",
       "      <td>2014.0</td>\n",
       "      <td>5/16/2014</td>\n",
       "      <td>4.31</td>\n",
       "      <td>18.0</td>\n",
       "      <td>1450.0</td>\n",
       "      <td>1820.0</td>\n",
       "      <td>126000.0</td>\n",
       "      <td>72.0</td>\n",
       "      <td>584.0</td>\n",
       "      <td>1162.0</td>\n",
       "      <td>7.0</td>\n",
       "      <td>0.0</td>\n",
       "      <td>NaN</td>\n",
       "      <td>NaN</td>\n",
       "    </tr>\n",
       "    <tr>\n",
       "      <th>1</th>\n",
       "      <td>2.0</td>\n",
       "      <td>May</td>\n",
       "      <td>2014.0</td>\n",
       "      <td>5/16/2014</td>\n",
       "      <td>2.74</td>\n",
       "      <td>13.0</td>\n",
       "      <td>1120.0</td>\n",
       "      <td>1030.0</td>\n",
       "      <td>91000.0</td>\n",
       "      <td>42.0</td>\n",
       "      <td>496.0</td>\n",
       "      <td>874.0</td>\n",
       "      <td>5.0</td>\n",
       "      <td>0.0</td>\n",
       "      <td>NaN</td>\n",
       "      <td>NaN</td>\n",
       "    </tr>\n",
       "    <tr>\n",
       "      <th>2</th>\n",
       "      <td>3.0</td>\n",
       "      <td>May</td>\n",
       "      <td>2014.0</td>\n",
       "      <td>5/16/2014</td>\n",
       "      <td>3.45</td>\n",
       "      <td>15.0</td>\n",
       "      <td>2450.0</td>\n",
       "      <td>3100.0</td>\n",
       "      <td>105000.0</td>\n",
       "      <td>50.0</td>\n",
       "      <td>1080.0</td>\n",
       "      <td>2032.0</td>\n",
       "      <td>6.0</td>\n",
       "      <td>0.0</td>\n",
       "      <td>NaN</td>\n",
       "      <td>NaN</td>\n",
       "    </tr>\n",
       "    <tr>\n",
       "      <th>3</th>\n",
       "      <td>4.0</td>\n",
       "      <td>May</td>\n",
       "      <td>2014.0</td>\n",
       "      <td>5/17/2014</td>\n",
       "      <td>3.10</td>\n",
       "      <td>15.0</td>\n",
       "      <td>2380.0</td>\n",
       "      <td>2730.0</td>\n",
       "      <td>100000.0</td>\n",
       "      <td>52.0</td>\n",
       "      <td>896.0</td>\n",
       "      <td>1971.0</td>\n",
       "      <td>6.0</td>\n",
       "      <td>0.0</td>\n",
       "      <td>NaN</td>\n",
       "      <td>NaN</td>\n",
       "    </tr>\n",
       "    <tr>\n",
       "      <th>4</th>\n",
       "      <td>5.0</td>\n",
       "      <td>May</td>\n",
       "      <td>2014.0</td>\n",
       "      <td>5/17/2014</td>\n",
       "      <td>4.06</td>\n",
       "      <td>18.0</td>\n",
       "      <td>980.0</td>\n",
       "      <td>870.0</td>\n",
       "      <td>120000.0</td>\n",
       "      <td>72.0</td>\n",
       "      <td>368.0</td>\n",
       "      <td>753.0</td>\n",
       "      <td>7.0</td>\n",
       "      <td>0.0</td>\n",
       "      <td>NaN</td>\n",
       "      <td>NaN</td>\n",
       "    </tr>\n",
       "  </tbody>\n",
       "</table>\n",
       "</div>"
      ],
      "text/plain": [
       "   Dumpster Month    Year       Date  Weight (tons)  Volume (cubic yards)  \\\n",
       "0       1.0  May   2014.0  5/16/2014           4.31                  18.0   \n",
       "1       2.0  May   2014.0  5/16/2014           2.74                  13.0   \n",
       "2       3.0   May  2014.0  5/16/2014           3.45                  15.0   \n",
       "3       4.0   May  2014.0  5/17/2014           3.10                  15.0   \n",
       "4       5.0   May  2014.0  5/17/2014           4.06                  18.0   \n",
       "\n",
       "   Plastic Bottles  Polystyrene  Cigarette Butts  Glass Bottles  Plastic Bags  \\\n",
       "0           1450.0       1820.0         126000.0           72.0         584.0   \n",
       "1           1120.0       1030.0          91000.0           42.0         496.0   \n",
       "2           2450.0       3100.0         105000.0           50.0        1080.0   \n",
       "3           2380.0       2730.0         100000.0           52.0         896.0   \n",
       "4            980.0        870.0         120000.0           72.0         368.0   \n",
       "\n",
       "   Wrappers  Sports Balls  Homes Powered*  Unnamed: 14 Unnamed: 15  \n",
       "0    1162.0           7.0             0.0          NaN         NaN  \n",
       "1     874.0           5.0             0.0          NaN         NaN  \n",
       "2    2032.0           6.0             0.0          NaN         NaN  \n",
       "3    1971.0           6.0             0.0          NaN         NaN  \n",
       "4     753.0           7.0             0.0          NaN         NaN  "
      ]
     },
     "execution_count": 139,
     "metadata": {},
     "output_type": "execute_result"
    }
   ],
   "source": [
    "mrtrash.head()"
   ]
  },
  {
   "cell_type": "markdown",
   "id": "6668a1ec-e9e3-44d8-ad02-57520cddf718",
   "metadata": {},
   "source": [
    "Following table shows what we see in each column (source: https://github.com/rfordatascience/tidytuesday/blob/master/data/2024/2024-03-05/readme.md)\n",
    "\n",
    "We can use these information for setting correct data types.\n",
    "\n",
    "|variable       |class     |description    |\n",
    "|:--------------|:---------|:--------------|\n",
    "|ID             |character |Short name for the Trash Wheel             |\n",
    "|Name           |character |Name of the Trash Wheel           |\n",
    "|Dumpster       |double    |Dumpster number       |\n",
    "|Month          |character |Month          |\n",
    "|Year           |double    |Year           |\n",
    "|Date           |character |Date           |\n",
    "|Weight         |double    |Weight in tons         |\n",
    "|Volume         |double    |Volume in cubic yards          |\n",
    "|PlasticBottles |double    |Number of plastic bottles |\n",
    "|Polystyrene    |double    |Number of polystyrene items    |\n",
    "|CigaretteButts |double    |Number of cigarette butts |\n",
    "|GlassBottles   |double    |Number of glass bottles   |\n",
    "|PlasticBags    |double    |Number of plastic bags    |\n",
    "|Wrappers       |double    |Number of wrappers       |\n",
    "|SportsBalls    |double    |Number of sports balls    |\n",
    "|HomesPowered   |double    |Homes Powered - Each ton of trash equates to on average 500 kilowatts of electricity.  An average household will use 30 kilowatts per day.   |\n",
    "\n"
   ]
  },
  {
   "cell_type": "markdown",
   "id": "f80e923b-8033-4e9a-bd40-e5443b1487fc",
   "metadata": {},
   "source": [
    "There seems to be some problem in the csv. we have 'Unnamend: XY' columns\n",
    "Lets make this easy and get only the columns we know we want."
   ]
  },
  {
   "cell_type": "code",
   "execution_count": 140,
   "id": "754d2c1c-186d-4e56-8a98-8fd7dec94d53",
   "metadata": {},
   "outputs": [],
   "source": [
    "mrtrash = mrtrash[['Dumpster', 'Month', 'Year', 'Date', 'Weight (tons)',\n",
    "       'Volume (cubic yards)', 'Plastic Bottles', 'Polystyrene',\n",
    "       'Cigarette Butts', 'Glass Bottles', 'Plastic Bags', 'Wrappers',\n",
    "       'Sports Balls', 'Homes Powered*']]\n",
    "# The gwynnda seems to not have 'Glass Bottles' and 'Sport Balls'\n",
    "gwynndatrash = gwynndatrash[['Dumpster', 'Month', 'Year', 'Date', 'Weight (tons)',\n",
    "       'Volume (cubic yards)', 'Plastic Bottles', 'Polystyrene',\n",
    "       'Cigarette Butts', 'Plastic Bags', 'Wrappers',\n",
    "       'Homes Powered*']]\n",
    "# The captain seems to not have 'Glass Bottles' and 'Sport Balls'\n",
    "captaintrash = captaintrash[['Dumpster', 'Month', 'Year', 'Date', 'Weight (tons)',\n",
    "       'Volume (cubic yards)', 'Plastic Bottles', 'Polystyrene',\n",
    "       'Cigarette Butts', 'Plastic Bags', 'Wrappers',\n",
    "       'Homes Powered*']]\n",
    "# The professor seems to not have 'Sports Balls'\n",
    "professortrash = professortrash[['Dumpster', 'Month', 'Year', 'Date', 'Weight (tons)',\n",
    "       'Volume (cubic yards)', 'Plastic Bottles', 'Polystyrene',\n",
    "       'Cigarette Butts', 'Glass Bottles', 'Plastic Bags', 'Wrappers',\n",
    "       'Homes Powered*']]"
   ]
  },
  {
   "cell_type": "markdown",
   "id": "b8bc7751-98e6-4f89-888b-eaf5d0c47287",
   "metadata": {},
   "source": [
    "First insight is, that we do not have the full column set in all datasets.\n",
    "\n",
    "Interesting for us here in germany: The unit 'cubic yards' uses the following conversion to the here better understandable 'cubic meter'\n",
    "\n",
    "1 yd^3 = 0.764554858 m^3\n",
    "1 m^3 = 1.3079506193 yd^3\n",
    "\n",
    "source: https://www.unitconverters.net/volume/cubic-yard-to-cubic-meter.htm\n",
    "\n",
    "Don't know, if i will add an additional column with the metric unit yet. Let's see.."
   ]
  },
  {
   "cell_type": "code",
   "execution_count": 141,
   "id": "2a8f9282-a0f9-47bf-81c7-4c3bb5d3e22e",
   "metadata": {},
   "outputs": [],
   "source": [
    "## Tidy column names for better accessing \n",
    "tidy_column_names = {\n",
    "    'Weight (tons)': 'WeightTons',\n",
    "    'Volume (cubic yards)': 'VolumeCubicYards',\n",
    "    'Plastic Bottles': 'PlasticBottles',\n",
    "    'Cigarette Butts': 'CigaretteButts',\n",
    "    'Glass Bottles': 'GlassBottles',\n",
    "    'Plastic Bags': 'PlasticBags',\n",
    "    'Sports Balls': 'SportsBalls',\n",
    "    'Homes Powered*': 'HomesPowered'\n",
    "}\n",
    "\n",
    "mrtrash = mrtrash.rename(columns=tidy_column_names)\n",
    "professortrash = professortrash.rename(columns=tidy_column_names)\n",
    "captaintrash = captaintrash.rename(columns=tidy_column_names)\n",
    "gwynndatrash = gwynndatrash.rename(columns=tidy_column_names)"
   ]
  },
  {
   "cell_type": "code",
   "execution_count": 142,
   "id": "bd7f9aef-f7cf-4ddb-adf2-9aeb0dd5d2c8",
   "metadata": {},
   "outputs": [
    {
     "data": {
      "text/html": [
       "<div>\n",
       "<style scoped>\n",
       "    .dataframe tbody tr th:only-of-type {\n",
       "        vertical-align: middle;\n",
       "    }\n",
       "\n",
       "    .dataframe tbody tr th {\n",
       "        vertical-align: top;\n",
       "    }\n",
       "\n",
       "    .dataframe thead th {\n",
       "        text-align: right;\n",
       "    }\n",
       "</style>\n",
       "<table border=\"1\" class=\"dataframe\">\n",
       "  <thead>\n",
       "    <tr style=\"text-align: right;\">\n",
       "      <th></th>\n",
       "      <th>Dumpster</th>\n",
       "      <th>Month</th>\n",
       "      <th>Year</th>\n",
       "      <th>Date</th>\n",
       "      <th>WeightTons</th>\n",
       "      <th>VolumeCubicYards</th>\n",
       "      <th>PlasticBottles</th>\n",
       "      <th>Polystyrene</th>\n",
       "      <th>CigaretteButts</th>\n",
       "      <th>GlassBottles</th>\n",
       "      <th>PlasticBags</th>\n",
       "      <th>Wrappers</th>\n",
       "      <th>SportsBalls</th>\n",
       "      <th>HomesPowered</th>\n",
       "    </tr>\n",
       "  </thead>\n",
       "  <tbody>\n",
       "    <tr>\n",
       "      <th>0</th>\n",
       "      <td>1.0</td>\n",
       "      <td>May</td>\n",
       "      <td>2014.0</td>\n",
       "      <td>5/16/2014</td>\n",
       "      <td>4.31</td>\n",
       "      <td>18.0</td>\n",
       "      <td>1450.0</td>\n",
       "      <td>1820.0</td>\n",
       "      <td>126000.0</td>\n",
       "      <td>72.0</td>\n",
       "      <td>584.0</td>\n",
       "      <td>1162.0</td>\n",
       "      <td>7.0</td>\n",
       "      <td>0.0</td>\n",
       "    </tr>\n",
       "  </tbody>\n",
       "</table>\n",
       "</div>"
      ],
      "text/plain": [
       "   Dumpster Month    Year       Date  WeightTons  VolumeCubicYards  \\\n",
       "0       1.0  May   2014.0  5/16/2014        4.31              18.0   \n",
       "\n",
       "   PlasticBottles  Polystyrene  CigaretteButts  GlassBottles  PlasticBags  \\\n",
       "0          1450.0       1820.0        126000.0          72.0        584.0   \n",
       "\n",
       "   Wrappers  SportsBalls  HomesPowered  \n",
       "0    1162.0          7.0           0.0  "
      ]
     },
     "execution_count": 142,
     "metadata": {},
     "output_type": "execute_result"
    }
   ],
   "source": [
    "mrtrash.head(1)"
   ]
  },
  {
   "cell_type": "code",
   "execution_count": 143,
   "id": "7d05e89b-cd68-436c-a084-fcdc3a2147be",
   "metadata": {},
   "outputs": [],
   "source": [
    "# Add the trash interceptor name as column\n",
    "mrtrash['Name'] = 'Mister Trash Wheel'\n",
    "professortrash['Name'] = 'Professor Trash Wheel'\n",
    "captaintrash['Name'] = 'Captain Trash Wheel'\n",
    "gwynndatrash['Name'] = 'Gwynnda Trash Wheel'"
   ]
  },
  {
   "cell_type": "markdown",
   "id": "4e696708-4a1f-49f5-a3cc-082bec29cd41",
   "metadata": {},
   "source": [
    "Since we will join the datasets together to one 'big', we have to add missing columns (SportsBalls and GlassBottles for captain and gwynnda and SportsBalls for the professor)"
   ]
  },
  {
   "cell_type": "code",
   "execution_count": 144,
   "id": "4d47627b-2877-41f3-b347-0b07d9f252a4",
   "metadata": {},
   "outputs": [],
   "source": [
    "professortrash['SportsBalls'] = np.nan\n",
    "captaintrash['SportsBalls'] = np.nan\n",
    "captaintrash['GlassBottles'] = np.nan\n",
    "gwynndatrash['SportsBalls'] = np.nan\n",
    "gwynndatrash['GlassBottles'] = np.nan"
   ]
  },
  {
   "cell_type": "markdown",
   "id": "684aaa26-da37-42e4-94dd-cfbf07df2ed9",
   "metadata": {},
   "source": [
    "So, now we have to adjust the column data types and than put them together to one big file. Hopefully that works without haven the same column ordering. We will see..."
   ]
  },
  {
   "cell_type": "code",
   "execution_count": 145,
   "id": "0a2364aa-c2a3-4f74-a59d-d76d50e74711",
   "metadata": {},
   "outputs": [
    {
     "data": {
      "text/html": [
       "<div>\n",
       "<style scoped>\n",
       "    .dataframe tbody tr th:only-of-type {\n",
       "        vertical-align: middle;\n",
       "    }\n",
       "\n",
       "    .dataframe tbody tr th {\n",
       "        vertical-align: top;\n",
       "    }\n",
       "\n",
       "    .dataframe thead th {\n",
       "        text-align: right;\n",
       "    }\n",
       "</style>\n",
       "<table border=\"1\" class=\"dataframe\">\n",
       "  <thead>\n",
       "    <tr style=\"text-align: right;\">\n",
       "      <th></th>\n",
       "      <th>Dumpster</th>\n",
       "      <th>Month</th>\n",
       "      <th>Year</th>\n",
       "      <th>Date</th>\n",
       "      <th>WeightTons</th>\n",
       "      <th>VolumeCubicYards</th>\n",
       "      <th>PlasticBottles</th>\n",
       "      <th>Polystyrene</th>\n",
       "      <th>CigaretteButts</th>\n",
       "      <th>GlassBottles</th>\n",
       "      <th>PlasticBags</th>\n",
       "      <th>Wrappers</th>\n",
       "      <th>HomesPowered</th>\n",
       "      <th>Name</th>\n",
       "      <th>SportsBalls</th>\n",
       "    </tr>\n",
       "  </thead>\n",
       "  <tbody>\n",
       "    <tr>\n",
       "      <th>0</th>\n",
       "      <td>1.0</td>\n",
       "      <td>January</td>\n",
       "      <td>2017.0</td>\n",
       "      <td>1/2/2017</td>\n",
       "      <td>1.79</td>\n",
       "      <td>15.0</td>\n",
       "      <td>1950.0</td>\n",
       "      <td>6080.0</td>\n",
       "      <td>19700.0</td>\n",
       "      <td>8.0</td>\n",
       "      <td>3100.0</td>\n",
       "      <td>15600.0</td>\n",
       "      <td>30.0</td>\n",
       "      <td>Professor Trash Wheel</td>\n",
       "      <td>NaN</td>\n",
       "    </tr>\n",
       "    <tr>\n",
       "      <th>1</th>\n",
       "      <td>2.0</td>\n",
       "      <td>January</td>\n",
       "      <td>2017.0</td>\n",
       "      <td>1/30/2017</td>\n",
       "      <td>1.58</td>\n",
       "      <td>15.0</td>\n",
       "      <td>9540.0</td>\n",
       "      <td>11230.0</td>\n",
       "      <td>17600.0</td>\n",
       "      <td>14.0</td>\n",
       "      <td>5630.0</td>\n",
       "      <td>16700.0</td>\n",
       "      <td>26.0</td>\n",
       "      <td>Professor Trash Wheel</td>\n",
       "      <td>NaN</td>\n",
       "    </tr>\n",
       "    <tr>\n",
       "      <th>2</th>\n",
       "      <td>3.0</td>\n",
       "      <td>February</td>\n",
       "      <td>2017.0</td>\n",
       "      <td>2/26/2017</td>\n",
       "      <td>2.32</td>\n",
       "      <td>18.0</td>\n",
       "      <td>8350.0</td>\n",
       "      <td>9210.0</td>\n",
       "      <td>12000.0</td>\n",
       "      <td>19.0</td>\n",
       "      <td>6430.0</td>\n",
       "      <td>12400.0</td>\n",
       "      <td>39.0</td>\n",
       "      <td>Professor Trash Wheel</td>\n",
       "      <td>NaN</td>\n",
       "    </tr>\n",
       "    <tr>\n",
       "      <th>3</th>\n",
       "      <td>4.0</td>\n",
       "      <td>February</td>\n",
       "      <td>2017.0</td>\n",
       "      <td>2/26/2017</td>\n",
       "      <td>3.72</td>\n",
       "      <td>15.0</td>\n",
       "      <td>8590.0</td>\n",
       "      <td>1030.0</td>\n",
       "      <td>13000.0</td>\n",
       "      <td>21.0</td>\n",
       "      <td>5870.0</td>\n",
       "      <td>11030.0</td>\n",
       "      <td>62.0</td>\n",
       "      <td>Professor Trash Wheel</td>\n",
       "      <td>NaN</td>\n",
       "    </tr>\n",
       "    <tr>\n",
       "      <th>4</th>\n",
       "      <td>5.0</td>\n",
       "      <td>February</td>\n",
       "      <td>2017.0</td>\n",
       "      <td>2/28/2017</td>\n",
       "      <td>1.45</td>\n",
       "      <td>15.0</td>\n",
       "      <td>7830.0</td>\n",
       "      <td>9950.0</td>\n",
       "      <td>16000.0</td>\n",
       "      <td>18.0</td>\n",
       "      <td>7450.0</td>\n",
       "      <td>15340.0</td>\n",
       "      <td>24.0</td>\n",
       "      <td>Professor Trash Wheel</td>\n",
       "      <td>NaN</td>\n",
       "    </tr>\n",
       "  </tbody>\n",
       "</table>\n",
       "</div>"
      ],
      "text/plain": [
       "   Dumpster     Month    Year       Date  WeightTons  VolumeCubicYards  \\\n",
       "0       1.0   January  2017.0   1/2/2017        1.79              15.0   \n",
       "1       2.0   January  2017.0  1/30/2017        1.58              15.0   \n",
       "2       3.0  February  2017.0  2/26/2017        2.32              18.0   \n",
       "3       4.0  February  2017.0  2/26/2017        3.72              15.0   \n",
       "4       5.0  February  2017.0  2/28/2017        1.45              15.0   \n",
       "\n",
       "   PlasticBottles  Polystyrene  CigaretteButts  GlassBottles  PlasticBags  \\\n",
       "0          1950.0       6080.0         19700.0           8.0       3100.0   \n",
       "1          9540.0      11230.0         17600.0          14.0       5630.0   \n",
       "2          8350.0       9210.0         12000.0          19.0       6430.0   \n",
       "3          8590.0       1030.0         13000.0          21.0       5870.0   \n",
       "4          7830.0       9950.0         16000.0          18.0       7450.0   \n",
       "\n",
       "   Wrappers  HomesPowered                   Name  SportsBalls  \n",
       "0   15600.0          30.0  Professor Trash Wheel          NaN  \n",
       "1   16700.0          26.0  Professor Trash Wheel          NaN  \n",
       "2   12400.0          39.0  Professor Trash Wheel          NaN  \n",
       "3   11030.0          62.0  Professor Trash Wheel          NaN  \n",
       "4   15340.0          24.0  Professor Trash Wheel          NaN  "
      ]
     },
     "execution_count": 145,
     "metadata": {},
     "output_type": "execute_result"
    }
   ],
   "source": [
    "professortrash.head()"
   ]
  },
  {
   "cell_type": "code",
   "execution_count": 146,
   "id": "f5649d60-f8ba-4d03-bf93-9fce5e2d83e7",
   "metadata": {},
   "outputs": [
    {
     "name": "stdout",
     "output_type": "stream",
     "text": [
      "<class 'pandas.core.frame.DataFrame'>\n",
      "RangeIndex: 116 entries, 0 to 115\n",
      "Data columns (total 15 columns):\n",
      " #   Column            Non-Null Count  Dtype  \n",
      "---  ------            --------------  -----  \n",
      " 0   Dumpster          115 non-null    float32\n",
      " 1   Month             114 non-null    object \n",
      " 2   Year              114 non-null    float32\n",
      " 3   Date              114 non-null    object \n",
      " 4   WeightTons        115 non-null    float32\n",
      " 5   VolumeCubicYards  115 non-null    float32\n",
      " 6   PlasticBottles    114 non-null    float32\n",
      " 7   Polystyrene       114 non-null    float32\n",
      " 8   CigaretteButts    114 non-null    float32\n",
      " 9   GlassBottles      114 non-null    float32\n",
      " 10  PlasticBags       114 non-null    float32\n",
      " 11  Wrappers          114 non-null    float32\n",
      " 12  HomesPowered      115 non-null    float32\n",
      " 13  Name              116 non-null    object \n",
      " 14  SportsBalls       0 non-null      float64\n",
      "dtypes: float32(11), float64(1), object(3)\n",
      "memory usage: 8.7+ KB\n"
     ]
    }
   ],
   "source": [
    "professortrash.info()"
   ]
  },
  {
   "cell_type": "markdown",
   "id": "36d9e9b5-6be9-46a4-90de-6ec4080bb765",
   "metadata": {},
   "source": [
    "What we need to do next is to convert the 'Date' column. At least for me, there was no way to infer the relevant logic in the 'read_csv' call.\n",
    "\n",
    "The problem is, that we have a slightly mixed format. The main thing is, that the year sometimes comes without century.\n",
    "\n",
    "See the following rows."
   ]
  },
  {
   "cell_type": "code",
   "execution_count": 147,
   "id": "778d93f0-b801-4eac-99f4-e7de00005132",
   "metadata": {},
   "outputs": [
    {
     "data": {
      "text/html": [
       "<div>\n",
       "<style scoped>\n",
       "    .dataframe tbody tr th:only-of-type {\n",
       "        vertical-align: middle;\n",
       "    }\n",
       "\n",
       "    .dataframe tbody tr th {\n",
       "        vertical-align: top;\n",
       "    }\n",
       "\n",
       "    .dataframe thead th {\n",
       "        text-align: right;\n",
       "    }\n",
       "</style>\n",
       "<table border=\"1\" class=\"dataframe\">\n",
       "  <thead>\n",
       "    <tr style=\"text-align: right;\">\n",
       "      <th></th>\n",
       "      <th>Dumpster</th>\n",
       "      <th>Month</th>\n",
       "      <th>Year</th>\n",
       "      <th>Date</th>\n",
       "      <th>WeightTons</th>\n",
       "      <th>VolumeCubicYards</th>\n",
       "      <th>PlasticBottles</th>\n",
       "      <th>Polystyrene</th>\n",
       "      <th>CigaretteButts</th>\n",
       "      <th>GlassBottles</th>\n",
       "      <th>PlasticBags</th>\n",
       "      <th>Wrappers</th>\n",
       "      <th>SportsBalls</th>\n",
       "      <th>HomesPowered</th>\n",
       "      <th>Name</th>\n",
       "    </tr>\n",
       "  </thead>\n",
       "  <tbody>\n",
       "    <tr>\n",
       "      <th>36</th>\n",
       "      <td>37.0</td>\n",
       "      <td>October</td>\n",
       "      <td>2014.0</td>\n",
       "      <td>10/24/2014</td>\n",
       "      <td>3.50</td>\n",
       "      <td>15.0</td>\n",
       "      <td>3650.0</td>\n",
       "      <td>3880.0</td>\n",
       "      <td>94000.0</td>\n",
       "      <td>51.0</td>\n",
       "      <td>1210.0</td>\n",
       "      <td>1840.0</td>\n",
       "      <td>6.0</td>\n",
       "      <td>0.0</td>\n",
       "      <td>Mister Trash Wheel</td>\n",
       "    </tr>\n",
       "    <tr>\n",
       "      <th>37</th>\n",
       "      <td>38.0</td>\n",
       "      <td>November</td>\n",
       "      <td>2014.0</td>\n",
       "      <td>11/06/14</td>\n",
       "      <td>2.70</td>\n",
       "      <td>15.0</td>\n",
       "      <td>760.0</td>\n",
       "      <td>1680.0</td>\n",
       "      <td>22000.0</td>\n",
       "      <td>18.0</td>\n",
       "      <td>960.0</td>\n",
       "      <td>1720.0</td>\n",
       "      <td>6.0</td>\n",
       "      <td>0.0</td>\n",
       "      <td>Mister Trash Wheel</td>\n",
       "    </tr>\n",
       "    <tr>\n",
       "      <th>38</th>\n",
       "      <td>39.0</td>\n",
       "      <td>November</td>\n",
       "      <td>2014.0</td>\n",
       "      <td>11/17/14</td>\n",
       "      <td>3.25</td>\n",
       "      <td>18.0</td>\n",
       "      <td>1250.0</td>\n",
       "      <td>2730.0</td>\n",
       "      <td>46000.0</td>\n",
       "      <td>28.0</td>\n",
       "      <td>1130.0</td>\n",
       "      <td>2340.0</td>\n",
       "      <td>7.0</td>\n",
       "      <td>0.0</td>\n",
       "      <td>Mister Trash Wheel</td>\n",
       "    </tr>\n",
       "  </tbody>\n",
       "</table>\n",
       "</div>"
      ],
      "text/plain": [
       "    Dumpster     Month    Year        Date  WeightTons  VolumeCubicYards  \\\n",
       "36      37.0   October  2014.0  10/24/2014        3.50              15.0   \n",
       "37      38.0  November  2014.0    11/06/14        2.70              15.0   \n",
       "38      39.0  November  2014.0    11/17/14        3.25              18.0   \n",
       "\n",
       "    PlasticBottles  Polystyrene  CigaretteButts  GlassBottles  PlasticBags  \\\n",
       "36          3650.0       3880.0         94000.0          51.0       1210.0   \n",
       "37           760.0       1680.0         22000.0          18.0        960.0   \n",
       "38          1250.0       2730.0         46000.0          28.0       1130.0   \n",
       "\n",
       "    Wrappers  SportsBalls  HomesPowered                Name  \n",
       "36    1840.0          6.0           0.0  Mister Trash Wheel  \n",
       "37    1720.0          6.0           0.0  Mister Trash Wheel  \n",
       "38    2340.0          7.0           0.0  Mister Trash Wheel  "
      ]
     },
     "execution_count": 147,
     "metadata": {},
     "output_type": "execute_result"
    }
   ],
   "source": [
    "mrtrash[36:39]"
   ]
  },
  {
   "cell_type": "code",
   "execution_count": 148,
   "id": "492f307b-afaa-4fc9-90e8-5d7edd2e4a34",
   "metadata": {},
   "outputs": [],
   "source": [
    "# Create some helpers to tidy date string. We assume that all the data is collected in the 21. century.\n",
    "def add_20th_century(match):\n",
    "    month, day, year = match.groups()\n",
    "    return f'{month}/{day}/20{year}' \n",
    "def tidy_year_of_date(datestring):\n",
    "    return re.sub(r'^(\\d{1,2})/(\\d{1,2})/(\\d{2})$', add_20th_century, datestring)\n",
    "\n",
    "# lets spend some time creating simple asserts to verfy this nice looking code to work correctly\n",
    "assert tidy_year_of_date('5/20/01') == '5/20/2001', f'no century was seems to be added'\n",
    "assert tidy_year_of_date('11/06/14') == '11/06/2014', f'no century was seems to be added'\n",
    "assert tidy_year_of_date('11/7/18') == '11/7/2018', f'no century was seems to be added'\n",
    "assert tidy_year_of_date('1/1/2023') == '1/1/2023', f'no need to add century to date.'\n"
   ]
  },
  {
   "cell_type": "code",
   "execution_count": 149,
   "id": "2774bc89-4859-45fd-82fe-4b9b7c2bdd73",
   "metadata": {},
   "outputs": [
    {
     "data": {
      "text/plain": [
       "Date\n",
       "False    220\n",
       "True       1\n",
       "Name: count, dtype: int64"
      ]
     },
     "execution_count": 149,
     "metadata": {},
     "output_type": "execute_result"
    }
   ],
   "source": [
    "gwynndatrash['Date'].isnull().value_counts()"
   ]
  },
  {
   "cell_type": "code",
   "execution_count": 150,
   "id": "242a0efb-8b24-4f29-bdfc-4e4a55a39d96",
   "metadata": {},
   "outputs": [],
   "source": [
    "# my super method raises an error so check the nulls (and yes we have some)\n",
    "#see: mrtrash.loc[(mrtrash['Date'].isnull())]\n",
    "# to keep it simple we drop them.\n",
    "mrtrash = mrtrash.dropna(subset=['Date'])\n",
    "professortrash = professortrash.dropna(subset=['Date'])\n",
    "captaintrash = captaintrash.dropna(subset=['Date'])\n",
    "gwynndatrash = gwynndatrash.dropna(subset=['Date'])"
   ]
  },
  {
   "cell_type": "code",
   "execution_count": 151,
   "id": "3de4028d-5955-459a-9b5b-9409bcab565b",
   "metadata": {},
   "outputs": [],
   "source": [
    "# ok. now lets tidy the date with our beautiful function\n",
    "mrtrash['Date'] = mrtrash['Date'].apply(tidy_year_of_date).astype('datetime64[ns]')\n",
    "professortrash['Date'] = professortrash['Date'].apply(tidy_year_of_date).astype('datetime64[ns]')\n",
    "captaintrash['Date'] = captaintrash['Date'].apply(tidy_year_of_date).astype('datetime64[ns]')\n",
    "gwynndatrash['Date'] = gwynndatrash['Date'].apply(tidy_year_of_date).astype('datetime64[ns]')"
   ]
  },
  {
   "cell_type": "code",
   "execution_count": 152,
   "id": "c6dad548-1181-494e-9175-27f2bd93ca90",
   "metadata": {},
   "outputs": [
    {
     "name": "stdout",
     "output_type": "stream",
     "text": [
      "<class 'pandas.core.series.Series'>\n",
      "Index: 629 entries, 0 to 628\n",
      "Series name: Date\n",
      "Non-Null Count  Dtype         \n",
      "--------------  -----         \n",
      "629 non-null    datetime64[ns]\n",
      "dtypes: datetime64[ns](1)\n",
      "memory usage: 9.8 KB\n",
      "None\n",
      "<class 'pandas.core.series.Series'>\n",
      "Index: 114 entries, 0 to 113\n",
      "Series name: Date\n",
      "Non-Null Count  Dtype         \n",
      "--------------  -----         \n",
      "114 non-null    datetime64[ns]\n",
      "dtypes: datetime64[ns](1)\n",
      "memory usage: 1.8 KB\n",
      "None\n",
      "<class 'pandas.core.series.Series'>\n",
      "Index: 30 entries, 0 to 29\n",
      "Series name: Date\n",
      "Non-Null Count  Dtype         \n",
      "--------------  -----         \n",
      "30 non-null     datetime64[ns]\n",
      "dtypes: datetime64[ns](1)\n",
      "memory usage: 480.0 bytes\n",
      "None\n",
      "<class 'pandas.core.series.Series'>\n",
      "Index: 220 entries, 0 to 219\n",
      "Series name: Date\n",
      "Non-Null Count  Dtype         \n",
      "--------------  -----         \n",
      "220 non-null    datetime64[ns]\n",
      "dtypes: datetime64[ns](1)\n",
      "memory usage: 3.4 KB\n",
      "None\n"
     ]
    }
   ],
   "source": [
    "print(mrtrash['Date'].info())\n",
    "print(professortrash['Date'].info())\n",
    "print(captaintrash['Date'].info())\n",
    "print(gwynndatrash['Date'].info())"
   ]
  },
  {
   "cell_type": "markdown",
   "id": "fa8a4ca7-0b4b-46ec-9682-3be78054120c",
   "metadata": {},
   "source": [
    "Now lets put them all together and save them into one dataset"
   ]
  },
  {
   "cell_type": "code",
   "execution_count": 155,
   "id": "20874668-fe64-4d70-94b9-d5bb2564d915",
   "metadata": {},
   "outputs": [
    {
     "name": "stderr",
     "output_type": "stream",
     "text": [
      "C:\\Users\\Wolfi\\AppData\\Local\\Temp\\ipykernel_13360\\1029396033.py:1: FutureWarning: The behavior of DataFrame concatenation with empty or all-NA entries is deprecated. In a future version, this will no longer exclude empty or all-NA columns when determining the result dtypes. To retain the old behavior, exclude the relevant entries before the concat operation.\n",
      "  alltrashwheels = pd.concat([mrtrash, professortrash, captaintrash, gwynndatrash], ignore_index=True)\n"
     ]
    }
   ],
   "source": [
    "alltrashwheels = pd.concat([mrtrash, professortrash, captaintrash, gwynndatrash], ignore_index=True)"
   ]
  },
  {
   "cell_type": "code",
   "execution_count": 159,
   "id": "8a7cd027-71a8-43bf-8bc2-385d5d79048a",
   "metadata": {},
   "outputs": [],
   "source": [
    "# We save using defaults. so keep in mind, that this means: decimal . and thousands ,\n",
    "alltrashwheels.to_csv('./data/alltrashwheels.csv', index=False)"
   ]
  },
  {
   "cell_type": "markdown",
   "id": "e493cabe-54a3-43f8-9321-838a0065b81d",
   "metadata": {},
   "source": [
    "## Analyse the data\n",
    "As a starter we think about what was questioned in the readme from rfordatascience\n",
    "\n",
    "\"What type of trash is collected the most? Do the different Trash Wheels collect different sets of trash? Are there times of the year when more or less trash is collected?\""
   ]
  },
  {
   "cell_type": "code",
   "execution_count": 160,
   "id": "4e9ec64b-c643-490b-8c89-3fc25796c4cd",
   "metadata": {},
   "outputs": [
    {
     "data": {
      "text/plain": [
       "Index(['Dumpster', 'Month', 'Year', 'Date', 'WeightTons', 'VolumeCubicYards',\n",
       "       'PlasticBottles', 'Polystyrene', 'CigaretteButts', 'GlassBottles',\n",
       "       'PlasticBags', 'Wrappers', 'SportsBalls', 'HomesPowered', 'Name'],\n",
       "      dtype='object')"
      ]
     },
     "execution_count": 160,
     "metadata": {},
     "output_type": "execute_result"
    }
   ],
   "source": [
    "alltrashwheels.columns"
   ]
  },
  {
   "cell_type": "code",
   "execution_count": 179,
   "id": "c0ae4928-2670-4116-a14d-242604e7adea",
   "metadata": {},
   "outputs": [
    {
     "data": {
      "text/plain": [
       "PlasticBottles     2201576.0\n",
       "Polystyrene        1425374.0\n",
       "CigaretteButts    13618298.0\n",
       "GlassBottles         15549.0\n",
       "PlasticBags         976127.0\n",
       "Wrappers           1900711.0\n",
       "SportsBalls           8551.0\n",
       "dtype: float32"
      ]
     },
     "execution_count": 179,
     "metadata": {},
     "output_type": "execute_result"
    },
    {
     "data": {
      "image/png": "[encoded data removed]",
      "text/plain": [
       "<Figure size 640x480 with 1 Axes>"
      ]
     },
     "metadata": {},
     "output_type": "display_data"
    }
   ],
   "source": [
    "trash_columns = ['PlasticBottles', 'Polystyrene', 'CigaretteButts', 'GlassBottles',\n",
    "       'PlasticBags', 'Wrappers', 'SportsBalls']\n",
    "alltrashwheels[trash_columns].sum().plot(kind='bar', title='#Items by trash type from 2014 to 2023')\n",
    "alltrashwheels[trash_columns].sum()"
   ]
  },
  {
   "cell_type": "markdown",
   "id": "29bf3a80-554a-4945-91cb-5cf51e813c18",
   "metadata": {},
   "source": [
    "Not optimal. Since these tiny cigarette butts are so over represented, it looks like no bottles were collected at all.\n",
    "\n",
    "Let's see how the proportions develop over time."
   ]
  },
  {
   "cell_type": "code",
   "execution_count": 180,
   "id": "6371ab0f-75a5-43bf-b558-751673b75146",
   "metadata": {},
   "outputs": [
    {
     "data": {
      "text/plain": [
       "<Axes: xlabel='Year'>"
      ]
     },
     "execution_count": 180,
     "metadata": {},
     "output_type": "execute_result"
    },
    {
     "data": {
      "image/png": "[encoded data removed]",
      "text/plain": [
       "<Figure size 640x480 with 1 Axes>"
      ]
     },
     "metadata": {},
     "output_type": "display_data"
    }
   ],
   "source": [
    "alltrashwheels.groupby('Year')[trash_columns].sum().plot(kind='area')"
   ]
  },
  {
   "cell_type": "markdown",
   "id": "8b70623a-bcaf-4c60-9439-dac47f2f930a",
   "metadata": {},
   "source": [
    "Interesting. That looks like the amount of cigarette butts decrease over the time.\n",
    "Maybe many people stopped smoking between 2014 and 2017 (to be honest, i don't think so.). Maybe someone told them not to throw the cigarette butts in the water.. or maybe i did some mistake while loading may data (no no no :)).\n",
    "I continue thinking..."
   ]
  },
  {
   "cell_type": "markdown",
   "id": "31a20629-2ff8-4875-9b8c-0b005fc73799",
   "metadata": {},
   "source": [
    "Let's look at that with ignoring the cigarette butts.\n"
   ]
  },
  {
   "cell_type": "code",
   "execution_count": 181,
   "id": "b64250ee-10d8-4fab-9cd5-fe9591d84200",
   "metadata": {},
   "outputs": [
    {
     "data": {
      "text/plain": [
       "<Axes: xlabel='Year'>"
      ]
     },
     "execution_count": 181,
     "metadata": {},
     "output_type": "execute_result"
    },
    {
     "data": {
      "image/png": "[encoded data removed]",
      "text/plain": [
       "<Figure size 640x480 with 1 Axes>"
      ]
     },
     "metadata": {},
     "output_type": "display_data"
    }
   ],
   "source": [
    "not_cigarette_butts = ['PlasticBottles', 'Polystyrene', 'GlassBottles',\n",
    "       'PlasticBags', 'Wrappers', 'SportsBalls']\n",
    "alltrashwheels.groupby('Year')[not_cigarette_butts].sum().plot(kind='area')"
   ]
  },
  {
   "cell_type": "code",
   "execution_count": null,
   "id": "df5b13aa-7fe9-46e5-b4fb-53088e791a85",
   "metadata": {},
   "outputs": [],
   "source": []
  },
  {
   "cell_type": "code",
   "execution_count": null,
   "id": "cc0436bc-6fac-4a10-a17c-6de4c34b7a6a",
   "metadata": {},
   "outputs": [],
   "source": []
  }
 ],
 "metadata": {
  "kernelspec": {
   "display_name": "Python 3 (ipykernel)",
   "language": "python",
   "name": "python3"
  },
  "language_info": {
   "codemirror_mode": {
    "name": "ipython",
    "version": 3
   },
   "file_extension": ".py",
   "mimetype": "text/x-python",
   "name": "python",
   "nbconvert_exporter": "python",
   "pygments_lexer": "ipython3",
   "version": "3.11.8"
  }
 },
 "nbformat": 4,
 "nbformat_minor": 5
}
