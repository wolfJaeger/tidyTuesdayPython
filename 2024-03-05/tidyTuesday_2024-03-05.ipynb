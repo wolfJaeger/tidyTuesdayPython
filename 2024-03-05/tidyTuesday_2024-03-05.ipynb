{
 "cells": [
  {
   "cell_type": "markdown",
   "id": "29341f6f-8164-4040-80d8-8d556cebee8d",
   "metadata": {},
   "source": [
    "# TidyTuesday 2024-03-05 - Python\n",
    "\n",
    "This is my first attempt to conquer a tidyTuesday using python.\n",
    "\n",
    "Sources:\n",
    "- https://github.com/rfordatascience/tidytuesday/blob/master/data/2024/2024-03-05/readme.md\n",
    "- https://www.mrtrashwheel.com\n",
    "- https://docs.google.com/spreadsheets/d/1b8Lbe-z3PNb3H8nSsSjrwK2B0ReAblL2/edit#gid=1143432795\n"
   ]
  },
  {
   "cell_type": "code",
   "execution_count": 1,
   "id": "5b51e3ad-3422-4daa-8920-51015d182ffa",
   "metadata": {},
   "outputs": [],
   "source": [
    "import numpy as np\n",
    "import pandas as pd\n",
    "import seaborn as sns"
   ]
  },
  {
   "cell_type": "markdown",
   "id": "3b6012de-c852-48b8-b4f8-c6c931a10296",
   "metadata": {},
   "source": [
    "## First step - doing the preparations like in the description (readme.md on tidytuesday)"
   ]
  },
  {
   "cell_type": "code",
   "execution_count": 18,
   "id": "841e437d-177d-4bbf-ae4d-8e95379398c8",
   "metadata": {},
   "outputs": [],
   "source": [
    "# Read the csvs (parse_date has sadly no effect, so we make this after loading the data)\n",
    "# Each csv contains the data of one 'semi-autonomous trash interceptor'\n",
    "mrtrash = pd.read_csv('./data/mrtrashwheel.csv', skiprows=1)\n",
    "professortrash = pd.read_csv('./data/professortrashwheel.csv', skiprows=1)\n",
    "captaintrash = pd.read_csv('./data/captaintrashwheel.csv', skiprows=1)\n",
    "gwynndatrash = pd.read_csv('./data/gwynndatrashwheel.csv', skiprows=1)"
   ]
  },
  {
   "cell_type": "code",
   "execution_count": 19,
   "id": "df94a45d-cdce-40d8-89ee-e8ff8010af4d",
   "metadata": {},
   "outputs": [
    {
     "data": {
      "text/html": [
       "<div>\n",
       "<style scoped>\n",
       "    .dataframe tbody tr th:only-of-type {\n",
       "        vertical-align: middle;\n",
       "    }\n",
       "\n",
       "    .dataframe tbody tr th {\n",
       "        vertical-align: top;\n",
       "    }\n",
       "\n",
       "    .dataframe thead th {\n",
       "        text-align: right;\n",
       "    }\n",
       "</style>\n",
       "<table border=\"1\" class=\"dataframe\">\n",
       "  <thead>\n",
       "    <tr style=\"text-align: right;\">\n",
       "      <th></th>\n",
       "      <th>Dumpster</th>\n",
       "      <th>Month</th>\n",
       "      <th>Year</th>\n",
       "      <th>Date</th>\n",
       "      <th>Weight (tons)</th>\n",
       "      <th>Volume (cubic yards)</th>\n",
       "      <th>Plastic Bottles</th>\n",
       "      <th>Polystyrene</th>\n",
       "      <th>Cigarette Butts</th>\n",
       "      <th>Glass Bottles</th>\n",
       "      <th>Plastic Bags</th>\n",
       "      <th>Wrappers</th>\n",
       "      <th>Sports Balls</th>\n",
       "      <th>Homes Powered*</th>\n",
       "      <th>Unnamed: 14</th>\n",
       "      <th>Unnamed: 15</th>\n",
       "    </tr>\n",
       "  </thead>\n",
       "  <tbody>\n",
       "    <tr>\n",
       "      <th>0</th>\n",
       "      <td>1.0</td>\n",
       "      <td>May</td>\n",
       "      <td>2014.0</td>\n",
       "      <td>5/16/2014</td>\n",
       "      <td>4.31</td>\n",
       "      <td>18</td>\n",
       "      <td>1,450</td>\n",
       "      <td>1,820</td>\n",
       "      <td>126,000</td>\n",
       "      <td>72</td>\n",
       "      <td>584</td>\n",
       "      <td>1,162</td>\n",
       "      <td>7</td>\n",
       "      <td>0</td>\n",
       "      <td>NaN</td>\n",
       "      <td>NaN</td>\n",
       "    </tr>\n",
       "  </tbody>\n",
       "</table>\n",
       "</div>"
      ],
      "text/plain": [
       "   Dumpster Month    Year       Date Weight (tons) Volume (cubic yards)  \\\n",
       "0       1.0  May   2014.0  5/16/2014          4.31                   18   \n",
       "\n",
       "  Plastic Bottles Polystyrene Cigarette Butts Glass Bottles Plastic Bags  \\\n",
       "0           1,450       1,820         126,000            72          584   \n",
       "\n",
       "  Wrappers Sports Balls Homes Powered*  Unnamed: 14 Unnamed: 15  \n",
       "0    1,162            7              0          NaN         NaN  "
      ]
     },
     "execution_count": 19,
     "metadata": {},
     "output_type": "execute_result"
    }
   ],
   "source": [
    "mrtrash.head(1)"
   ]
  },
  {
   "cell_type": "markdown",
   "id": "6668a1ec-e9e3-44d8-ad02-57520cddf718",
   "metadata": {},
   "source": [
    "Following table shows what we see in each column (source: https://github.com/rfordatascience/tidytuesday/blob/master/data/2024/2024-03-05/readme.md)\n",
    "\n",
    "We can use these information for setting correct data types.\n",
    "\n",
    "|variable       |class     |description    |\n",
    "|:--------------|:---------|:--------------|\n",
    "|ID             |character |Short name for the Trash Wheel             |\n",
    "|Name           |character |Name of the Trash Wheel           |\n",
    "|Dumpster       |double    |Dumpster number       |\n",
    "|Month          |character |Month          |\n",
    "|Year           |double    |Year           |\n",
    "|Date           |character |Date           |\n",
    "|Weight         |double    |Weight in tons         |\n",
    "|Volume         |double    |Volume in cubic yards          |\n",
    "|PlasticBottles |double    |Number of plastic bottles |\n",
    "|Polystyrene    |double    |Number of polystyrene items    |\n",
    "|CigaretteButts |double    |Number of cigarette butts |\n",
    "|GlassBottles   |double    |Number of glass bottles   |\n",
    "|PlasticBags    |double    |Number of plastic bags    |\n",
    "|Wrappers       |double    |Number of wrappers       |\n",
    "|SportsBalls    |double    |Number of sports balls    |\n",
    "|HomesPowered   |double    |Homes Powered - Each ton of trash equates to on average 500 kilowatts of electricity.  An average household will use 30 kilowatts per day.   |\n",
    "\n"
   ]
  },
  {
   "cell_type": "markdown",
   "id": "f80e923b-8033-4e9a-bd40-e5443b1487fc",
   "metadata": {},
   "source": [
    "There seems to be some problem in the csv. we have 'Unnamend: XY' columns\n",
    "Lets make this easy and get only the columns we know we want."
   ]
  },
  {
   "cell_type": "code",
   "execution_count": 25,
   "id": "754d2c1c-186d-4e56-8a98-8fd7dec94d53",
   "metadata": {},
   "outputs": [],
   "source": [
    "mrtrash = mrtrash[['Dumpster', 'Month', 'Year', 'Date', 'Weight (tons)',\n",
    "       'Volume (cubic yards)', 'Plastic Bottles', 'Polystyrene',\n",
    "       'Cigarette Butts', 'Glass Bottles', 'Plastic Bags', 'Wrappers',\n",
    "       'Sports Balls', 'Homes Powered*']]\n",
    "# The gwynnda seems to not have 'Glass Bottles' and 'Sport Balls'\n",
    "gwynndatrash = gwynndatrash[['Dumpster', 'Month', 'Year', 'Date', 'Weight (tons)',\n",
    "       'Volume (cubic yards)', 'Plastic Bottles', 'Polystyrene',\n",
    "       'Cigarette Butts', 'Plastic Bags', 'Wrappers',\n",
    "       'Homes Powered*']]\n",
    "# The captain seems to not have 'Glass Bottles' and 'Sport Balls'\n",
    "captaintrash = captaintrash[['Dumpster', 'Month', 'Year', 'Date', 'Weight (tons)',\n",
    "       'Volume (cubic yards)', 'Plastic Bottles', 'Polystyrene',\n",
    "       'Cigarette Butts', 'Plastic Bags', 'Wrappers',\n",
    "       'Homes Powered*']]\n",
    "# The professor seems to not have 'Sports Balls'\n",
    "professortrash = professortrash[['Dumpster', 'Month', 'Year', 'Date', 'Weight (tons)',\n",
    "       'Volume (cubic yards)', 'Plastic Bottles', 'Polystyrene',\n",
    "       'Cigarette Butts', 'Glass Bottles', 'Plastic Bags', 'Wrappers',\n",
    "       'Homes Powered*']]"
   ]
  },
  {
   "cell_type": "markdown",
   "id": "b8bc7751-98e6-4f89-888b-eaf5d0c47287",
   "metadata": {},
   "source": [
    "First insight is, that we do not have the full column set in all datasets.\n",
    "\n",
    "Interesting for us here in germany: The unit 'cubic yards' uses the following conversion to the here better understandable 'cubic meter'\n",
    "\n",
    "1 yd^3 = 0.764554858 m^3\n",
    "1 m^3 = 1.3079506193 yd^3\n",
    "\n",
    "source: https://www.unitconverters.net/volume/cubic-yard-to-cubic-meter.htm\n",
    "\n",
    "Don't know, if i will add an additional column with the metric unit yet. Let's see.."
   ]
  },
  {
   "cell_type": "code",
   "execution_count": 26,
   "id": "2a8f9282-a0f9-47bf-81c7-4c3bb5d3e22e",
   "metadata": {},
   "outputs": [],
   "source": [
    "## Tidy column names for better accessing \n",
    "tidy_column_names = {\n",
    "    'Weight (tons)': 'WeightTons',\n",
    "    'Volume (cubic yards)': 'VolumeCubicYards',\n",
    "    'Plastic Bottles': 'PlasticBottles',\n",
    "    'Cigarette Butts': 'CigaretteButts',\n",
    "    'Glass Bottles': 'GlassBottles',\n",
    "    'Plastic Bags': 'PlasticBags',\n",
    "    'Sports Balls': 'SportsBalls',\n",
    "    'Homes Powered*': 'HomesPowered'\n",
    "}\n",
    "\n",
    "mrtrash = mrtrash.rename(columns=tidy_column_names)\n",
    "professortrash = professortrash.rename(columns=tidy_column_names)\n",
    "captaintrash = captaintrash.rename(columns=tidy_column_names)\n",
    "gwynndatrash = gwynndatrash.rename(columns=tidy_column_names)"
   ]
  },
  {
   "cell_type": "code",
   "execution_count": 28,
   "id": "bd7f9aef-f7cf-4ddb-adf2-9aeb0dd5d2c8",
   "metadata": {},
   "outputs": [
    {
     "data": {
      "text/html": [
       "<div>\n",
       "<style scoped>\n",
       "    .dataframe tbody tr th:only-of-type {\n",
       "        vertical-align: middle;\n",
       "    }\n",
       "\n",
       "    .dataframe tbody tr th {\n",
       "        vertical-align: top;\n",
       "    }\n",
       "\n",
       "    .dataframe thead th {\n",
       "        text-align: right;\n",
       "    }\n",
       "</style>\n",
       "<table border=\"1\" class=\"dataframe\">\n",
       "  <thead>\n",
       "    <tr style=\"text-align: right;\">\n",
       "      <th></th>\n",
       "      <th>Dumpster</th>\n",
       "      <th>Month</th>\n",
       "      <th>Year</th>\n",
       "      <th>Date</th>\n",
       "      <th>WeightTons</th>\n",
       "      <th>VolumeCubicYards</th>\n",
       "      <th>PlasticBottles</th>\n",
       "      <th>Polystyrene</th>\n",
       "      <th>CigaretteButts</th>\n",
       "      <th>GlassBottles</th>\n",
       "      <th>PlasticBags</th>\n",
       "      <th>Wrappers</th>\n",
       "      <th>SportsBalls</th>\n",
       "      <th>HomesPowered</th>\n",
       "    </tr>\n",
       "  </thead>\n",
       "  <tbody>\n",
       "    <tr>\n",
       "      <th>0</th>\n",
       "      <td>1.0</td>\n",
       "      <td>May</td>\n",
       "      <td>2014.0</td>\n",
       "      <td>5/16/2014</td>\n",
       "      <td>4.31</td>\n",
       "      <td>18</td>\n",
       "      <td>1,450</td>\n",
       "      <td>1,820</td>\n",
       "      <td>126,000</td>\n",
       "      <td>72</td>\n",
       "      <td>584</td>\n",
       "      <td>1,162</td>\n",
       "      <td>7</td>\n",
       "      <td>0</td>\n",
       "    </tr>\n",
       "  </tbody>\n",
       "</table>\n",
       "</div>"
      ],
      "text/plain": [
       "   Dumpster Month    Year       Date WeightTons VolumeCubicYards  \\\n",
       "0       1.0  May   2014.0  5/16/2014       4.31               18   \n",
       "\n",
       "  PlasticBottles Polystyrene CigaretteButts GlassBottles PlasticBags Wrappers  \\\n",
       "0          1,450       1,820        126,000           72         584    1,162   \n",
       "\n",
       "  SportsBalls HomesPowered  \n",
       "0           7            0  "
      ]
     },
     "execution_count": 28,
     "metadata": {},
     "output_type": "execute_result"
    }
   ],
   "source": [
    "mrtrash.head(1)"
   ]
  },
  {
   "cell_type": "code",
   "execution_count": 29,
   "id": "7d05e89b-cd68-436c-a084-fcdc3a2147be",
   "metadata": {},
   "outputs": [],
   "source": [
    "# Add the trash interceptor name as column\n",
    "mrtrash['Name'] = 'Mister Trash Wheel'\n",
    "professortrash['Name'] = 'Professor Trash Wheel'\n",
    "captaintrash['Name'] = 'Captain Trash Wheel'\n",
    "gwynndatrash['Name'] = 'Gwynnda Trash Wheel'"
   ]
  },
  {
   "cell_type": "markdown",
   "id": "4e696708-4a1f-49f5-a3cc-082bec29cd41",
   "metadata": {},
   "source": [
    "Since we will join the datasets together to one 'big', we have to add missing columns (SportsBalls and GlassBottles for captain and gwynnda and SportsBalls for the professor)"
   ]
  },
  {
   "cell_type": "code",
   "execution_count": 30,
   "id": "4d47627b-2877-41f3-b347-0b07d9f252a4",
   "metadata": {},
   "outputs": [],
   "source": [
    "professortrash['SportsBalls'] = np.nan\n",
    "captaintrash['SportsBalls'] = np.nan\n",
    "captaintrash['GlassBottles'] = np.nan\n",
    "gwynndatrash['SportsBalls'] = np.nan\n",
    "gwynndatrash['GlassBottles'] = np.nan"
   ]
  },
  {
   "cell_type": "markdown",
   "id": "684aaa26-da37-42e4-94dd-cfbf07df2ed9",
   "metadata": {},
   "source": [
    "So, now we have to adjust the column data types and than put them together to one big file. Hopefully that works without haven the same column ordering. We will see..."
   ]
  },
  {
   "cell_type": "code",
   "execution_count": null,
   "id": "0a2364aa-c2a3-4f74-a59d-d76d50e74711",
   "metadata": {},
   "outputs": [],
   "source": []
  },
  {
   "cell_type": "code",
   "execution_count": null,
   "id": "f5649d60-f8ba-4d03-bf93-9fce5e2d83e7",
   "metadata": {},
   "outputs": [],
   "source": []
  }
 ],
 "metadata": {
  "kernelspec": {
   "display_name": "Python 3 (ipykernel)",
   "language": "python",
   "name": "python3"
  },
  "language_info": {
   "codemirror_mode": {
    "name": "ipython",
    "version": 3
   },
   "file_extension": ".py",
   "mimetype": "text/x-python",
   "name": "python",
   "nbconvert_exporter": "python",
   "pygments_lexer": "ipython3",
   "version": "3.11.8"
  }
 },
 "nbformat": 4,
 "nbformat_minor": 5
}
